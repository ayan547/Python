{
 "cells": [
  {
   "cell_type": "markdown",
   "id": "b768a419",
   "metadata": {},
   "source": [
    "#Python Program to Convert Kilometers to Miles"
   ]
  },
  {
   "cell_type": "code",
   "execution_count": 1,
   "id": "4112f4c9",
   "metadata": {},
   "outputs": [
    {
     "name": "stdout",
     "output_type": "stream",
     "text": [
      "How many kilometers?: 13\n",
      "13.000 kilometers is equal to 8.078 miles\n"
     ]
    }
   ],
   "source": [
    "# Collect input from the user  \n",
    "kilometers = float(input('How many kilometers?: '))  \n",
    "# conversion factor  \n",
    "con_fac = 0.621371  \n",
    "# calculate miles  \n",
    "miles = kilometers * con_fac  \n",
    "print('%0.3f kilometers is equal to %0.3f miles' %(kilometers,miles))  "
   ]
  },
  {
   "cell_type": "markdown",
   "id": "d05a728e",
   "metadata": {},
   "source": [
    "#Python Program to Convert Celsius To Fahrenheit"
   ]
  },
  {
   "cell_type": "code",
   "execution_count": 3,
   "id": "9010a488",
   "metadata": {},
   "outputs": [
    {
     "name": "stdout",
     "output_type": "stream",
     "text": [
      "Enter temperature in Celsius: 34\n",
      "34.0  Celsius is equal to 93.2 degree Fahrenheit\n"
     ]
    }
   ],
   "source": [
    "celsius = float(input('Enter temperature in Celsius: '))  \n",
    "  \n",
    "# calculate temperature in Fahrenheit  \n",
    "fahrenheit = (celsius * 1.8) + 32  \n",
    "print('%0.1f  Celsius is equal to %0.1f degree Fahrenheit'%(celsius,fahrenheit))  "
   ]
  },
  {
   "cell_type": "markdown",
   "id": "dd4a4786",
   "metadata": {},
   "source": [
    "#Python Program to Check if a Number is Positive, Negative or 0"
   ]
  },
  {
   "cell_type": "code",
   "execution_count": 5,
   "id": "98e015d5",
   "metadata": {},
   "outputs": [
    {
     "name": "stdout",
     "output_type": "stream",
     "text": [
      "Enter a number:-2\n",
      "Negative number\n"
     ]
    }
   ],
   "source": [
    "num = int(input(\"Enter a number:\" ))\n",
    "if num > 0:\n",
    "    print(\"Positive number\")\n",
    "elif num == 0:\n",
    "    print(\"0\")\n",
    "elif num < 0:\n",
    "    print(\"Negative number\")\n",
    "    "
   ]
  },
  {
   "cell_type": "markdown",
   "id": "8ac18c2f",
   "metadata": {},
   "source": [
    "#Python Program to Check if a Number is Odd or Even"
   ]
  },
  {
   "cell_type": "code",
   "execution_count": 9,
   "id": "b464d943",
   "metadata": {},
   "outputs": [
    {
     "name": "stdout",
     "output_type": "stream",
     "text": [
      "Enter a number:25\n",
      "Odd\n"
     ]
    }
   ],
   "source": [
    "num = int(input(\"Enter a number:\"))\n",
    "if num%2 == 0:\n",
    "    print(\"Even\")\n",
    "else:\n",
    "    print(\"Odd\")"
   ]
  },
  {
   "cell_type": "markdown",
   "id": "57fa4724",
   "metadata": {},
   "source": [
    "#Python Program to Check Leap Year"
   ]
  },
  {
   "cell_type": "code",
   "execution_count": 15,
   "id": "796b28da",
   "metadata": {},
   "outputs": [
    {
     "name": "stdout",
     "output_type": "stream",
     "text": [
      "enter the year: 2016\n",
      "2016 is a leap year\n"
     ]
    }
   ],
   "source": [
    "year = int(input(\"enter the year: \"))\n",
    "if year % 4 == 0:\n",
    "   if year % 100 == 0:\n",
    "       if year % 400 == 0:\n",
    "           print('%0.0f is a leap year' % year)\n",
    "       else:\n",
    "           print('%0.0f is not a leap year' % year)\n",
    "   else:\n",
    "       print('%0.0f is a leap year' % year)\n",
    "else:\n",
    "       print('%0.0f is not a leap year' % year)"
   ]
  },
  {
   "cell_type": "markdown",
   "id": "95153b6e",
   "metadata": {},
   "source": [
    "#Python Program to Find the Largest Among Three Numbers"
   ]
  },
  {
   "cell_type": "code",
   "execution_count": 16,
   "id": "4d058790",
   "metadata": {},
   "outputs": [
    {
     "name": "stdout",
     "output_type": "stream",
     "text": [
      "Enter first number: 20\n",
      "Enter second number: 25\n",
      "Enter third number: 13\n",
      "The largest number is 25.0\n"
     ]
    }
   ],
   "source": [
    "num1 = float(input(\"Enter first number: \"))\n",
    "num2 = float(input(\"Enter second number: \"))\n",
    "num3 = float(input(\"Enter third number: \"))\n",
    "\n",
    "if (num1 >= num2) and (num1 >= num3):\n",
    "   largest = num1\n",
    "elif (num2 >= num1) and (num2 >= num3):\n",
    "   largest = num2\n",
    "else:\n",
    "   largest = num3\n",
    "\n",
    "print(\"The largest number is\", largest)"
   ]
  },
  {
   "cell_type": "markdown",
   "id": "c9936177",
   "metadata": {},
   "source": [
    "#Write a Python Program to check if a number is prime or not"
   ]
  },
  {
   "cell_type": "code",
   "execution_count": 17,
   "id": "709b709d",
   "metadata": {},
   "outputs": [
    {
     "name": "stdout",
     "output_type": "stream",
     "text": [
      "Enter the number:43\n",
      "43 is a prime number\n"
     ]
    }
   ],
   "source": [
    "num = int(input(\"Enter the number:\"))\n",
    "  \n",
    "# If given number is greater than 1\n",
    "if num > 1:\n",
    "  \n",
    "    # Iterate from 2 to n / 2\n",
    "    for i in range(2, int(num/2)+1):\n",
    "  \n",
    "        # If num is divisible by any number between\n",
    "        # 2 and n / 2, it is not prime\n",
    "        if (num % i) == 0:\n",
    "            print(num, \"is not a prime number\")\n",
    "            break\n",
    "    else:\n",
    "        print(num, \"is a prime number\")\n",
    "  \n",
    "else:\n",
    "    print(num, \"is not a prime number\")"
   ]
  },
  {
   "cell_type": "markdown",
   "id": "853bd0a3",
   "metadata": {},
   "source": [
    "#Python program to display all the prime numbers within an interval"
   ]
  },
  {
   "cell_type": "code",
   "execution_count": 19,
   "id": "14a3d6e1",
   "metadata": {},
   "outputs": [
    {
     "name": "stdout",
     "output_type": "stream",
     "text": [
      "Enter lower range:1\n",
      "Enter upper range:50\n",
      "Prime numbers between 1 and 50 are:\n",
      "2\n",
      "3\n",
      "5\n",
      "7\n",
      "11\n",
      "13\n",
      "17\n",
      "19\n",
      "23\n",
      "29\n",
      "31\n",
      "37\n",
      "41\n",
      "43\n",
      "47\n"
     ]
    }
   ],
   "source": [
    "lower = int(input(\"Enter lower range:\"))\n",
    "upper = int(input(\"Enter upper range:\"))\n",
    "\n",
    "print(\"Prime numbers between\", lower, \"and\", upper, \"are:\")\n",
    "\n",
    "for num in range(lower, upper + 1):\n",
    "   # all prime numbers are greater than 1\n",
    "   if num > 1:\n",
    "       for i in range(2, num):\n",
    "           if (num % i) == 0:\n",
    "               break\n",
    "       else:\n",
    "           print(num)"
   ]
  },
  {
   "cell_type": "code",
   "execution_count": null,
   "id": "fef88923",
   "metadata": {},
   "outputs": [],
   "source": []
  }
 ],
 "metadata": {
  "kernelspec": {
   "display_name": "Python 3",
   "language": "python",
   "name": "python3"
  },
  "language_info": {
   "codemirror_mode": {
    "name": "ipython",
    "version": 3
   },
   "file_extension": ".py",
   "mimetype": "text/x-python",
   "name": "python",
   "nbconvert_exporter": "python",
   "pygments_lexer": "ipython3",
   "version": "3.8.10"
  }
 },
 "nbformat": 4,
 "nbformat_minor": 5
}
