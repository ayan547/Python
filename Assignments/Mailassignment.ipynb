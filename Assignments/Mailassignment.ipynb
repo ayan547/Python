{
 "cells": [
  {
   "cell_type": "code",
   "execution_count": 1,
   "id": "5912164e",
   "metadata": {},
   "outputs": [
    {
     "name": "stdout",
     "output_type": "stream",
     "text": [
      "['turboslayer@gmail.com', 'someone@outlook.com', 'crashtv@gov.in', 'blue_defender@gmail.com', 'logan@yahoo.com', 'ironmerc@gov.in', 'steeltitan@outlook.com', 'stealthedefender@yahoo.com', 'blaze_assault@gov.in', 'venom_fate@yahoo.com', 'dark_side@yahoo.com', 'fataldestiny@yahoo.com', 'ultimatebeast@outlook.com', 'masked_titan@gmail.com', 'frozen_gunner@yahoo.com', 'username_copied@gov.in', 'whos_ur_buddy@outlook.com', 'unfinished_sentenc@gov.in', 'all_gone@gov.in', 'something@gmail.com', 'president@gmail.com', 'tinfoilhat@gmail.com', 'anonymouse@yahoo.com', 'definitely_not_an_athlete@outlook.com', 'dropout@gov.in', 'paw_friend@outlook.com', 'test_name_please_ignore@gov.in', 'heyyou@gov.in', 'a_distraction@yahoo.com', 'thegodfatherpart4@gov.in', 'unfriendme@outlook.com', 'doodles@gmail.com', 'fluffycookie@yahoo.com', 'theintolerant@gmail.com', 'fourhour@yahoo.com', 'toastedwithcheese@gmail.com', 'futureking@yahoo.com', 'coolshirtbruh@outlook.com', 'kentucky@yahoo.com', 'chocolate@gmail.com', 'saintbroseph@yahoo.com', 'just_chillin@gmail.com', 'ghostface@gov.in', 'bigfootisreal@yahoo.com', 'newbie@yahoo.com', 'alienware@outlook.com', 'chrishemsworth@outlook.com', 'nachocheesefries@outlook.com', 'reginageorge@gov.in', 'harmless_potato@outlook.com', 'frostedcupcake@outlook.com', 'avocadorable@outlook.com', 'pixie_dust@gmail.com', 'chopsuey@yahoo.com', 'iron_man@gov.in', 'lemon_ade@outlook.com', 'cerial_killer@outlook.com', 'light_year@gov.in', 'phoenix@outlook.com', 'harry_potter@outlook.com']\n"
     ]
    }
   ],
   "source": [
    "data = \"\"\"turboslayer@gmail.com\n",
    "someone@outlook.com\n",
    "crashtv@gov.in\n",
    "blue_defender@gmail.com\n",
    "logan@yahoo.com\n",
    "ironmerc@gov.in\n",
    "steeltitan@outlook.com\n",
    "stealthedefender@yahoo.com\n",
    "blaze_assault@gov.in\n",
    "venom_fate@yahoo.com\n",
    "dark_side@yahoo.com\n",
    "fataldestiny@yahoo.com\n",
    "ultimatebeast@outlook.com\n",
    "masked_titan@gmail.com\n",
    "frozen_gunner@yahoo.com\n",
    "username_copied@gov.in\n",
    "whos_ur_buddy@outlook.com\n",
    "unfinished_sentenc@gov.in\n",
    "all_gone@gov.in\n",
    "something@gmail.com\n",
    "president@gmail.com\n",
    "tinfoilhat@gmail.com\n",
    "anonymouse@yahoo.com\n",
    "definitely_not_an_athlete@outlook.com\n",
    "dropout@gov.in\n",
    "paw_friend@outlook.com\n",
    "test_name_please_ignore@gov.in\n",
    "heyyou@gov.in\n",
    "a_distraction@yahoo.com\n",
    "thegodfatherpart4@gov.in\n",
    "unfriendme@outlook.com\n",
    "doodles@gmail.com\n",
    "fluffycookie@yahoo.com\n",
    "theintolerant@gmail.com\n",
    "fourhour@yahoo.com\n",
    "toastedwithcheese@gmail.com\n",
    "futureking@yahoo.com\n",
    "coolshirtbruh@outlook.com\n",
    "kentucky@yahoo.com\n",
    "chocolate@gmail.com\n",
    "saintbroseph@yahoo.com\n",
    "just_chillin@gmail.com\n",
    "ghostface@gov.in\n",
    "bigfootisreal@yahoo.com\n",
    "newbie@yahoo.com\n",
    "alienware@outlook.com\n",
    "chrishemsworth@outlook.com\n",
    "nachocheesefries@outlook.com\n",
    "reginageorge@gov.in\n",
    "harmless_potato@outlook.com\n",
    "frostedcupcake@outlook.com\n",
    "avocadorable@outlook.com\n",
    "pixie_dust@gmail.com\n",
    "chopsuey@yahoo.com\n",
    "iron_man@gov.in\n",
    "lemon_ade@outlook.com\n",
    "cerial_killer@outlook.com\n",
    "light_year@gov.in\n",
    "phoenix@outlook.com\n",
    "harry_potter@outlook.com\"\"\"\n",
    "\n",
    "list= data.split()\n",
    "print(list)"
   ]
  },
  {
   "cell_type": "code",
   "execution_count": 2,
   "id": "d00d6cdf",
   "metadata": {},
   "outputs": [
    {
     "name": "stdout",
     "output_type": "stream",
     "text": [
      "{'gmail': 12, 'yahoo': 16, 'outlook': 18, 'gov': 14}\n"
     ]
    }
   ],
   "source": [
    "ans_dic = {\"gmail\" : 0, \"yahoo\" : 0 , \"outlook\" : 0 , \"gov\" : 0 }\n",
    "for i in list:\n",
    "    address = i.split(\"@\")\n",
    "    if address[1] == \"gmail.com\":\n",
    "        ans_dic[\"gmail\"] += 1\n",
    "    elif address[1] == \"yahoo.com\":\n",
    "        ans_dic[\"yahoo\"] += 1\n",
    "    elif address[1] == \"outlook.com\":\n",
    "        ans_dic[\"outlook\"] += 1\n",
    "    elif address[1] == \"gov.in\":\n",
    "        ans_dic[\"gov\"] += 1\n",
    "print(ans_dic)"
   ]
  },
  {
   "cell_type": "code",
   "execution_count": 5,
   "id": "8eb577aa",
   "metadata": {},
   "outputs": [
    {
     "name": "stdout",
     "output_type": "stream",
     "text": [
      "{'gmail': 0, 'yahoo': 0, 'outlook': 0, 'gov': 0}\n"
     ]
    }
   ],
   "source": [
    "ans_dic1 = {\"gmail\" : 0, \"yahoo\" : 0 , \"outlook\" : 0 , \"gov\" : 0 }\n",
    "with open(\"C:/Users/KIIT/Downloads/Mail.txt\") as data2:\n",
    "    data_=data2.readlines()\n",
    "for i in data_:\n",
    "    add = i.split(\"@\")\n",
    "    address1 = add[1].split(\"\\n\")\n",
    "    if address1[0] == \"gmail.com\":\n",
    "        ans_dic1[\"gmail\"] += 1\n",
    "    elif address1[0] == \"yahoo.com\":\n",
    "        ans_dic1[\"yahoo\"] += 1\n",
    "    elif address1[0] == \"outlook.com\":\n",
    "        ans_dic1[\"outlook\"] += 1\n",
    "    elif address1[0] == \"gov.in\":\n",
    "        ans_dic1[\"gov\"] += 1\n",
    "print(ans_dic1)"
   ]
  },
  {
   "cell_type": "code",
   "execution_count": null,
   "id": "80fdf86a",
   "metadata": {},
   "outputs": [],
   "source": []
  }
 ],
 "metadata": {
  "kernelspec": {
   "display_name": "Python 3",
   "language": "python",
   "name": "python3"
  },
  "language_info": {
   "codemirror_mode": {
    "name": "ipython",
    "version": 3
   },
   "file_extension": ".py",
   "mimetype": "text/x-python",
   "name": "python",
   "nbconvert_exporter": "python",
   "pygments_lexer": "ipython3",
   "version": "3.8.10"
  }
 },
 "nbformat": 4,
 "nbformat_minor": 5
}
