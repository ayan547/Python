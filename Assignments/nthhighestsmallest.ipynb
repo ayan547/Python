{
 "cells": [
  {
   "cell_type": "code",
   "execution_count": 4,
   "id": "f7afb416",
   "metadata": {},
   "outputs": [
    {
     "name": "stdout",
     "output_type": "stream",
     "text": [
      "20\n"
     ]
    }
   ],
   "source": [
    "def smallest_number(list,k):\n",
    "    new_list=[]\n",
    "    while list:\n",
    "        min = list[0]\n",
    "        for i in list:\n",
    "            if i<min:\n",
    "                min=i\n",
    "        new_list.append(min)\n",
    "        list.remove(min)\n",
    "    return new_list[k-1]\n",
    "print(smallest_number([20,65,32,78,92,10,36,44,51,61], 2))"
   ]
  },
  {
   "cell_type": "markdown",
   "id": "3705976b",
   "metadata": {},
   "source": [
    "Printing the 2nd smallest number"
   ]
  },
  {
   "cell_type": "code",
   "execution_count": 5,
   "id": "c440f525",
   "metadata": {},
   "outputs": [
    {
     "name": "stdout",
     "output_type": "stream",
     "text": [
      "78\n"
     ]
    }
   ],
   "source": [
    "def highest_number(list,k):\n",
    "    new_list=[]\n",
    "    while list:\n",
    "        min = list[0]\n",
    "        for i in list:\n",
    "            if i<min:\n",
    "                min=i\n",
    "        new_list.append(min)\n",
    "        list.remove(min)\n",
    "    return new_list[-k]\n",
    "print(highest_number([20,65,32,78,92,10,36,44,51,61], 2))"
   ]
  },
  {
   "cell_type": "markdown",
   "id": "be8c8ed1",
   "metadata": {},
   "source": [
    "Printing 2nd highest number"
   ]
  },
  {
   "cell_type": "code",
   "execution_count": null,
   "id": "0f11eaaf",
   "metadata": {},
   "outputs": [],
   "source": []
  }
 ],
 "metadata": {
  "kernelspec": {
   "display_name": "Python 3",
   "language": "python",
   "name": "python3"
  },
  "language_info": {
   "codemirror_mode": {
    "name": "ipython",
    "version": 3
   },
   "file_extension": ".py",
   "mimetype": "text/x-python",
   "name": "python",
   "nbconvert_exporter": "python",
   "pygments_lexer": "ipython3",
   "version": "3.8.10"
  }
 },
 "nbformat": 4,
 "nbformat_minor": 5
}
