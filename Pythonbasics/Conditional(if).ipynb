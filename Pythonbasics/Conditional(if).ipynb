{
 "cells": [
  {
   "cell_type": "markdown",
   "id": "dac48d30",
   "metadata": {},
   "source": [
    "# If Else Condition"
   ]
  },
  {
   "cell_type": "code",
   "execution_count": 1,
   "id": "d7b6c1d9",
   "metadata": {},
   "outputs": [
    {
     "name": "stdout",
     "output_type": "stream",
     "text": [
      "enter 1st no.20\n",
      "enter 2nd no.40\n",
      "enter 3rd no.35\n",
      "2nd no. is the largest\n"
     ]
    }
   ],
   "source": [
    "#largest no.\n",
    "x=int(input('enter 1st no.'))\n",
    "y=int(input('enter 2nd no.'))\n",
    "z=int(input('enter 3rd no.'))\n",
    "    \n",
    "print('1st no. is the largest') if x>y and x>z else print('2nd no. is the largest') if y>x and y>z else print(\"3rd no. is the largest\")"
   ]
  },
  {
   "cell_type": "code",
   "execution_count": 3,
   "id": "0f3fe4cd",
   "metadata": {},
   "outputs": [
    {
     "name": "stdout",
     "output_type": "stream",
     "text": [
      "enter  no24\n",
      "even\n"
     ]
    }
   ],
   "source": [
    "#odd even\n",
    "y=int(input('enter  no'))\n",
    "\n",
    "if y%2==0:\n",
    "    print('even')\n",
    "\n",
    "else: print('odd')"
   ]
  },
  {
   "cell_type": "markdown",
   "id": "9cc72c70",
   "metadata": {},
   "source": [
    "Nested If else"
   ]
  },
  {
   "cell_type": "code",
   "execution_count": 4,
   "id": "2a3fdf68",
   "metadata": {},
   "outputs": [
    {
     "name": "stdout",
     "output_type": "stream",
     "text": [
      "Above ten,\n",
      "and also above 20!\n"
     ]
    }
   ],
   "source": [
    "x = 41\n",
    "\n",
    "if x > 10:\n",
    "  print(\"Above ten,\")\n",
    "  if x > 20:\n",
    "    print(\"and also above 20!\")\n",
    "  else:\n",
    "    print(\"but not above 20.\")\n"
   ]
  },
  {
   "cell_type": "code",
   "execution_count": 5,
   "id": "f9183e1a",
   "metadata": {},
   "outputs": [
    {
     "name": "stdout",
     "output_type": "stream",
     "text": [
      "Enter a number: 12\n",
      "Positive number\n"
     ]
    }
   ],
   "source": [
    "num = float(input(\"Enter a number: \"))\n",
    "if num >= 0:\n",
    "    if num == 0:\n",
    "        print(\"Zero\")\n",
    "    else:\n",
    "        print(\"Positive number\")\n",
    "else:\n",
    "    print(\"Negative number\")"
   ]
  },
  {
   "cell_type": "code",
   "execution_count": 7,
   "id": "ef8c5e5c",
   "metadata": {},
   "outputs": [
    {
     "name": "stdout",
     "output_type": "stream",
     "text": [
      "Expression value is less than 200\n",
      "Which is 100\n",
      "Done\n"
     ]
    }
   ],
   "source": [
    "x = 100\n",
    "if x < 200:\n",
    "   print(\"Expression value is less than 200\")\n",
    "   if x == 150:\n",
    "      print(\"Which is 150\")\n",
    "   elif x == 100:\n",
    "      print(\"Which is 100\")\n",
    "   elif x == 50:\n",
    "      print(\"Which is 50\")\n",
    "   elif x < 50:\n",
    "      print(\"Expression value is less than 50\")\n",
    "else:\n",
    "   print(\"Could not find true expression\")\n",
    "\n",
    "print(\"Done\")"
   ]
  },
  {
   "cell_type": "code",
   "execution_count": null,
   "id": "5a3d93c7",
   "metadata": {},
   "outputs": [],
   "source": []
  }
 ],
 "metadata": {
  "kernelspec": {
   "display_name": "Python 3",
   "language": "python",
   "name": "python3"
  },
  "language_info": {
   "codemirror_mode": {
    "name": "ipython",
    "version": 3
   },
   "file_extension": ".py",
   "mimetype": "text/x-python",
   "name": "python",
   "nbconvert_exporter": "python",
   "pygments_lexer": "ipython3",
   "version": "3.8.10"
  }
 },
 "nbformat": 4,
 "nbformat_minor": 5
}
