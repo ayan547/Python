{
 "cells": [
  {
   "cell_type": "code",
   "execution_count": 6,
   "id": "86addefb",
   "metadata": {},
   "outputs": [
    {
     "name": "stdout",
     "output_type": "stream",
     "text": [
      "[23, 34, 56]\n"
     ]
    }
   ],
   "source": [
    "#create a list in python\n",
    "li = [23,34,56]\n",
    "print(li)"
   ]
  },
  {
   "cell_type": "code",
   "execution_count": 7,
   "id": "842645a4",
   "metadata": {},
   "outputs": [
    {
     "name": "stdout",
     "output_type": "stream",
     "text": [
      "[23, 'Candy', 'Chocolate']\n"
     ]
    }
   ],
   "source": [
    "li = [23,\"Candy\",\"Chocolate\"]\n",
    "print(li)"
   ]
  },
  {
   "cell_type": "code",
   "execution_count": 13,
   "id": "3dcc1a30",
   "metadata": {},
   "outputs": [
    {
     "name": "stdout",
     "output_type": "stream",
     "text": [
      "[23, 'Candy', 'Gum', 'Gum', 'Chocolate', 'Gum', 'Gum', 'Gum']\n"
     ]
    }
   ],
   "source": [
    "li.insert(2,\"Gum\")\n",
    "print(li)"
   ]
  },
  {
   "cell_type": "code",
   "execution_count": 17,
   "id": "ebc3ceca",
   "metadata": {},
   "outputs": [
    {
     "data": {
      "text/plain": [
       "[23, 'Candy', 'Gum', 'Gum', 'Chocolate', 'Gum', 'Gum', 'Gum']"
      ]
     },
     "execution_count": 17,
     "metadata": {},
     "output_type": "execute_result"
    }
   ],
   "source": [
    "li"
   ]
  },
  {
   "cell_type": "code",
   "execution_count": 20,
   "id": "9e003d29",
   "metadata": {},
   "outputs": [
    {
     "data": {
      "text/plain": [
       "'Gum'"
      ]
     },
     "execution_count": 20,
     "metadata": {},
     "output_type": "execute_result"
    }
   ],
   "source": [
    "li.pop(5)"
   ]
  },
  {
   "cell_type": "code",
   "execution_count": 21,
   "id": "ed5a265a",
   "metadata": {},
   "outputs": [
    {
     "data": {
      "text/plain": [
       "'Chocolate'"
      ]
     },
     "execution_count": 21,
     "metadata": {},
     "output_type": "execute_result"
    }
   ],
   "source": [
    "li.pop(2)\n",
    "li.pop(3)"
   ]
  },
  {
   "cell_type": "code",
   "execution_count": 22,
   "id": "3f234bca",
   "metadata": {},
   "outputs": [
    {
     "data": {
      "text/plain": [
       "[23, 'Candy', 'Gum', 'Gum', 'Gum']"
      ]
     },
     "execution_count": 22,
     "metadata": {},
     "output_type": "execute_result"
    }
   ],
   "source": [
    "li"
   ]
  },
  {
   "cell_type": "code",
   "execution_count": 23,
   "id": "c29a9d1e",
   "metadata": {},
   "outputs": [
    {
     "name": "stdout",
     "output_type": "stream",
     "text": [
      "5\n"
     ]
    }
   ],
   "source": [
    "print(len(li))"
   ]
  },
  {
   "cell_type": "markdown",
   "id": "8a86a157",
   "metadata": {},
   "source": [
    "Creating a Dictionary "
   ]
  },
  {
   "cell_type": "code",
   "execution_count": 24,
   "id": "6981cd9d",
   "metadata": {},
   "outputs": [
    {
     "name": "stdout",
     "output_type": "stream",
     "text": [
      "{1: 'Candy', 2: 'Burger', 3: 'Pizza', 4: 100}\n"
     ]
    }
   ],
   "source": [
    "dic ={1:'Candy', 2:'Burger', 3:'Pizza', 4: 100}\n",
    "print(dic)"
   ]
  },
  {
   "cell_type": "code",
   "execution_count": 26,
   "id": "0d5507c6",
   "metadata": {},
   "outputs": [],
   "source": [
    "#update\n",
    "dic[2] = 'Welcome'"
   ]
  },
  {
   "cell_type": "code",
   "execution_count": 27,
   "id": "c7d4b577",
   "metadata": {},
   "outputs": [
    {
     "name": "stdout",
     "output_type": "stream",
     "text": [
      "{1: 'Candy', 2: 'Welcome', 3: 'Pizza', 4: 100}\n"
     ]
    }
   ],
   "source": [
    "print(dic)"
   ]
  },
  {
   "cell_type": "code",
   "execution_count": 28,
   "id": "04ee3581",
   "metadata": {},
   "outputs": [
    {
     "name": "stdout",
     "output_type": "stream",
     "text": [
      "Pizza\n"
     ]
    }
   ],
   "source": [
    "# accessing a element using get()\n",
    "print(dic.get(3))"
   ]
  },
  {
   "cell_type": "code",
   "execution_count": null,
   "id": "ed84c4f4",
   "metadata": {},
   "outputs": [],
   "source": []
  }
 ],
 "metadata": {
  "kernelspec": {
   "display_name": "Python 3",
   "language": "python",
   "name": "python3"
  },
  "language_info": {
   "codemirror_mode": {
    "name": "ipython",
    "version": 3
   },
   "file_extension": ".py",
   "mimetype": "text/x-python",
   "name": "python",
   "nbconvert_exporter": "python",
   "pygments_lexer": "ipython3",
   "version": "3.8.10"
  }
 },
 "nbformat": 4,
 "nbformat_minor": 5
}
